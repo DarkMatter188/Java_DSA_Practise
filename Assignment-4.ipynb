{
  "metadata": {
    "language_info": {
      "codemirror_mode": {
        "name": "python",
        "version": 3
      },
      "file_extension": ".py",
      "mimetype": "text/x-python",
      "name": "python",
      "nbconvert_exporter": "python",
      "pygments_lexer": "ipython3",
      "version": "3.8"
    },
    "kernelspec": {
      "name": "python",
      "display_name": "Python (Pyodide)",
      "language": "python"
    }
  },
  "nbformat_minor": 4,
  "nbformat": 4,
  "cells": [
    {
      "cell_type": "code",
      "source": "def find_common_elements(arr1, arr2, arr3):\n    common_elements = []\n    i = j = k = 0\n\n    while i < len(arr1) and j < len(arr2) and k < len(arr3):\n        if arr1[i] == arr2[j] == arr3[k]:\n            common_elements.append(arr1[i])\n            i += 1\n            j += 1\n            k += 1\n        elif arr1[i] < arr2[j]:\n            i += 1\n        elif arr2[j] < arr3[k]:\n            j += 1\n        else:\n            k += 1\n\n    return common_elements\n\n\narr1 = [1, 2, 3, 4, 5]\narr2 = [2, 4, 6, 8]\narr3 = [1, 3, 5, 7, 9]\n\ncommon_elements = find_common_elements(arr1, arr2, arr3)\n\nprint(\"Common elements:\", common_elements)\n",
      "metadata": {
        "trusted": true
      },
      "execution_count": 1,
      "outputs": [
        {
          "name": "stdout",
          "text": "Common elements: []\n",
          "output_type": "stream"
        }
      ]
    },
    {
      "cell_type": "code",
      "source": "def find_distinct_integers(nums1, nums2):\n    distinct_nums1 = []\n    distinct_nums2 = []\n\n    set1 = set(nums1)\n    set2 = set(nums2)\n\n    for num in nums1:\n        if num not in set2:\n            distinct_nums1.append(num)\n\n    for num in nums2:\n        if num not in set1:\n            distinct_nums2.append(num)\n\n    return [distinct_nums1, distinct_nums2]\n\n\nnums1 = [1, 2, 2, 3, 4, 5]\nnums2 = [2, 4, 6, 8]\n\ndistinct_integers = find_distinct_integers(nums1, nums2)\n\nprint(\"Distinct integers in nums1 not present in nums2:\", distinct_integers[0])\nprint(\"Distinct integers in nums2 not present in nums1:\", distinct_integers[1])\n",
      "metadata": {
        "trusted": true
      },
      "execution_count": 6,
      "outputs": [
        {
          "name": "stdout",
          "text": "Distinct integers in nums1 not present in nums2: [1, 3, 5]\nDistinct integers in nums2 not present in nums1: [6, 8]\n",
          "output_type": "stream"
        }
      ]
    },
    {
      "cell_type": "code",
      "source": "def transpose(matrix):\n    rows = len(matrix)\n    cols = len(matrix[0])\n\n    transpose_matrix = [[0 for _ in range(rows)] for _ in range(cols)]\n\n    for i in range(rows):\n        for j in range(cols):\n            transpose_matrix[j][i] = matrix[i][j]\n\n    return transpose_matrix\n\n\ndef print_matrix(matrix):\n    rows = len(matrix)\n    cols = len(matrix[0])\n\n    for i in range(rows):\n        for j in range(cols):\n            print(matrix[i][j], end=\" \")\n        print()\n    print()\n\n\nmatrix = [\n    [1, 2, 2],\n    [4, 5, 7],\n    [7, 8, 9]\n]\n\ntranspose_matrix = transpose(matrix)\n\nprint(\"Original Matrix:\")\nprint_matrix(matrix)\n\nprint(\"Transpose Matrix:\")\nprint_matrix(transpose_matrix)\n",
      "metadata": {
        "trusted": true
      },
      "execution_count": 2,
      "outputs": [
        {
          "name": "stdout",
          "text": "Original Matrix:\n1 2 2 \n4 5 7 \n7 8 9 \n\nTranspose Matrix:\n1 4 7 \n2 5 8 \n2 7 9 \n\n",
          "output_type": "stream"
        }
      ]
    },
    {
      "cell_type": "code",
      "source": "def array_pair_sum(nums):\n    nums.sort()\n    sum = 0\n    for i in range(0, len(nums), 2):\n        sum += nums[i]\n    return sum\n\n\nnums = [1, 4, 3, 2]\nmax_sum = array_pair_sum(nums)\nprint(\"Maximized sum:\", max_sum)\n",
      "metadata": {
        "trusted": true
      },
      "execution_count": 3,
      "outputs": [
        {
          "name": "stdout",
          "text": "Maximized sum: 4\n",
          "output_type": "stream"
        }
      ]
    },
    {
      "cell_type": "code",
      "source": "def arrange_coins(n):\n    rows = 0\n    k = 1\n\n    while n >= k:\n        n -= k\n        k += 1\n        rows += 1\n\n    return rows\n\n\nn = 8\ncomplete_rows = arrange_coins(n)\nprint(\"Number of complete rows:\", complete_rows)\n",
      "metadata": {
        "trusted": true
      },
      "execution_count": 4,
      "outputs": [
        {
          "name": "stdout",
          "text": "Number of complete rows: 3\n",
          "output_type": "stream"
        }
      ]
    },
    {
      "cell_type": "code",
      "source": "import math\n\ndef sorted_squares(nums):\n    result = [0] * len(nums)\n    left = 0\n    right = len(nums) - 1\n    index = len(nums) - 1\n\n    while left <= right:\n        square_left = nums[left] * nums[left]\n        square_right = nums[right] * nums[right]\n\n        if square_left > square_right:\n            result[index] = square_left\n            left += 1\n        else:\n            result[index] = square_right\n            right -= 1\n\n        index -= 1\n\n    return result\n\n\nnums = [-4, -1, 0, 3, 10]\nsorted_squares_arr = sorted_squares(nums)\nprint(\"Sorted squares:\", sorted_squares_arr)\n",
      "metadata": {
        "trusted": true
      },
      "execution_count": 7,
      "outputs": [
        {
          "name": "stdout",
          "text": "Sorted squares: [0, 1, 9, 16, 100]\n",
          "output_type": "stream"
        }
      ]
    },
    {
      "cell_type": "code",
      "source": "def max_count(m, n, ops):\n    min_row = m\n    min_col = n\n\n    for op in ops:\n        min_row = min(min_row, op[0])\n        min_col = min(min_col, op[1])\n\n    return min_row * min_col\n\n\nm = 3\nn = 3\nops = [[2, 2], [3, 3]]\nmax_integers = max_count(m, n, ops)\nprint(\"Number of maximum integers:\", max_integers)\n",
      "metadata": {
        "trusted": true
      },
      "execution_count": 9,
      "outputs": [
        {
          "name": "stdout",
          "text": "Number of maximum integers: 4\n",
          "output_type": "stream"
        }
      ]
    },
    {
      "cell_type": "code",
      "source": "import math\n\ndef rearrange_array(nums):\n    result = [0] * len(nums)\n    x_index = 0\n    y_index = math.ceil(len(nums) / 2)\n\n    for i in range(len(nums)):\n        if i % 2 == 0:\n            result[i] = nums[x_index]\n            x_index += 1\n        else:\n            result[i] = nums[y_index]\n            y_index += 1\n\n    return result\n\n\nnums = [1, 2, 3, 4, 5, 6]\nrearranged_array = rearrange_array(nums)\nprint(\"Rearranged array:\", rearranged_array)\n",
      "metadata": {
        "trusted": true
      },
      "execution_count": 10,
      "outputs": [
        {
          "name": "stdout",
          "text": "Rearranged array: [1, 4, 2, 5, 3, 6]\n",
          "output_type": "stream"
        }
      ]
    },
    {
      "cell_type": "code",
      "source": "",
      "metadata": {},
      "execution_count": null,
      "outputs": []
    }
  ]
}