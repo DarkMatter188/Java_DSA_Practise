{
  "metadata": {
    "language_info": {
      "codemirror_mode": {
        "name": "python",
        "version": 3
      },
      "file_extension": ".py",
      "mimetype": "text/x-python",
      "name": "python",
      "nbconvert_exporter": "python",
      "pygments_lexer": "ipython3",
      "version": "3.8"
    },
    "kernelspec": {
      "name": "python",
      "display_name": "Python (Pyodide)",
      "language": "python"
    }
  },
  "nbformat_minor": 4,
  "nbformat": 4,
  "cells": [
    {
      "cell_type": "code",
      "source": "class Solution:\n    def minimumDeleteSum(self, s1: str, s2: str) -> int:\n        m = len(s1)\n        n = len(s2)\n        \n        dp = [[0] * (n + 1) for _ in range(m + 1)]\n        \n        # Fill in the first row\n        for j in range(1, n + 1):\n            dp[0][j] = dp[0][j - 1] + ord(s2[j - 1])\n        \n        # Fill in the first column\n        for i in range(1, m + 1):\n            dp[i][0] = dp[i - 1][0] + ord(s1[i - 1])\n        \n        # Fill in the rest of the table\n        for i in range(1, m + 1):\n            for j in range(1, n + 1):\n                if s1[i - 1] == s2[j - 1]:\n                    dp[i][j] = dp[i - 1][j - 1]\n                else:\n                    dp[i][j] = min(dp[i - 1][j] + ord(s1[i - 1]), dp[i][j - 1] + ord(s2[j - 1]))\n        \n        return dp[m][n]\n\n# Driver code\ns = Solution()\ns1 = \"sea\"\ns2 = \"eat\"\nmin_sum = s.minimumDeleteSum(s1, s2)\nprint(\"Lowest ASCII Sum:\", min_sum)\n",
      "metadata": {
        "trusted": true
      },
      "execution_count": 1,
      "outputs": [
        {
          "name": "stdout",
          "text": "Lowest ASCII Sum: 231\n",
          "output_type": "stream"
        }
      ]
    },
    {
      "cell_type": "code",
      "source": "class Solution:\n    def isValid(self, s: str) -> bool:\n        stack = []\n        \n        for c in s:\n            if c == '(' or c == '*':\n                stack.append(c)\n            elif c == ')':\n                if stack and (stack[-1] == '(' or stack[-1] == '*'):\n                    stack.pop()\n                else:\n                    stack.append(c)\n        \n        open_count = 0\n        \n        while stack:\n            top = stack.pop()\n            \n            if top == '(':\n                open_count += 1\n            elif top == ')' and open_count > 0:\n                open_count -= 1\n            else:\n                return False\n        \n        return open_count == 0\n\n# Driver code\ns = Solution()\nstring = \"(*()\"\nis_valid_string = s.isValid(string)\nprint(\"Is valid:\", is_valid_string)\n",
      "metadata": {
        "trusted": true
      },
      "execution_count": 2,
      "outputs": [
        {
          "name": "stdout",
          "text": "Is valid: False\n",
          "output_type": "stream"
        }
      ]
    },
    {
      "cell_type": "code",
      "source": "class Solution:\n    def minSteps(self, word1: str, word2: str) -> int:\n        m = len(word1)\n        n = len(word2)\n\n        dp = [[0] * (n + 1) for _ in range(m + 1)]\n\n        # Calculate the LCS\n        for i in range(1, m + 1):\n            for j in range(1, n + 1):\n                if word1[i - 1] == word2[j - 1]:\n                    dp[i][j] = dp[i - 1][j - 1] + 1\n                else:\n                    dp[i][j] = max(dp[i - 1][j], dp[i][j - 1])\n\n        lcs_length = dp[m][n]\n        min_steps = (m - lcs_length) + (n - lcs_length)\n\n        return min_steps\n\n# Driver code\ns = Solution()\nword1 = \"sea\"\nword2 = \"eat\"\nmin_steps = s.minSteps(word1, word2)\nprint(\"Minimum Steps:\", min_steps)\n",
      "metadata": {
        "trusted": true
      },
      "execution_count": 3,
      "outputs": [
        {
          "name": "stdout",
          "text": "Minimum Steps: 2\n",
          "output_type": "stream"
        }
      ]
    },
    {
      "cell_type": "code",
      "source": "class TreeNode:\n    def __init__(self, x):\n        self.val = x\n        self.left = None\n        self.right = None\n\nclass Solution:\n    def str2tree(self, s: str) -> TreeNode:\n        if not s:\n            return None\n\n        first_paren = s.find(\"(\")\n\n        if first_paren == -1:\n            val = int(s)\n        else:\n            val = int(s[:first_paren])\n\n        root = TreeNode(val)\n\n        if first_paren == -1:\n            return root\n\n        start = first_paren\n        open_paren_count = 0\n        for i in range(start, len(s)):\n            if s[i] == \"(\":\n                open_paren_count += 1\n            elif s[i] == \")\":\n                open_paren_count -= 1\n\n            if open_paren_count == 0 and start == first_paren:\n                root.left = self.str2tree(s[start + 1:i])\n                start = i + 1\n            elif open_paren_count == 0:\n                root.right = self.str2tree(s[start + 1:i])\n\n        return root\n\n    def inorderTraversal(self, root: TreeNode) -> None:\n        if root is None:\n            return\n\n        self.inorderTraversal(root.left)\n        print(root.val, end=\" \")\n        self.inorderTraversal(root.right)\n\n# Driver code\ns = Solution()\nstring = \"4(2(3)(1))(6(5))\"\nroot = s.str2tree(string)\n\nprint(\"Inorder Traversal:\", end=\" \")\ns.inorderTraversal(root)\n",
      "metadata": {
        "trusted": true
      },
      "execution_count": 4,
      "outputs": [
        {
          "name": "stdout",
          "text": "Inorder Traversal: 3 2 1 4 5 6 ",
          "output_type": "stream"
        }
      ]
    },
    {
      "cell_type": "code",
      "source": "from typing import List\n\nclass Solution:\n    def compress(self, chars: List[str]) -> int:\n        n = len(chars)  # Length of the original array\n\n        write = 0  # Pointer to track the position to write the compressed characters\n\n        read = 0  # Pointer to iterate through the original array\n\n        while read < n:\n            current_char = chars[read]\n            count = 0  # Count of consecutive repeating characters\n\n            # Count the number of consecutive repeating characters\n            while read < n and chars[read] == current_char:\n                count += 1\n                read += 1\n\n            # Write the character and its count in the compressed form\n            chars[write] = current_char\n            write += 1\n\n            # If the count is greater than 1, write its digits as separate characters\n            if count > 1:\n                count_str = str(count)\n                for digit in count_str:\n                    chars[write] = digit\n                    write += 1\n\n        return write\n\n# Driver code\ns = Solution()\nchars = ['a', 'a', 'b', 'b', 'c', 'c', 'c']\nnew_length = s.compress(chars)\n\nprint(\"Compressed Array:\", chars[:new_length])\nprint(\"New Length:\", new_length)\n\n",
      "metadata": {
        "trusted": true
      },
      "execution_count": 7,
      "outputs": [
        {
          "name": "stdout",
          "text": "Compressed Array: ['a', '2', 'b', '2', 'c', '3']\nNew Length: 6\n",
          "output_type": "stream"
        }
      ]
    },
    {
      "cell_type": "code",
      "source": "from typing import List\nfrom collections import Counter\n\nclass Solution:\n    def findAnagrams(self, s: str, p: str) -> List[int]:\n        result = []\n        \n        # Create frequency counters for strings p and the sliding window in s\n        targetCounter = Counter(p)\n        windowCounter = Counter(s[:len(p)])\n        \n        left = 0  # Left pointer of the sliding window\n        right = len(p) - 1  # Right pointer of the sliding window\n        \n        while right < len(s):\n            if windowCounter == targetCounter:\n                result.append(left)\n            \n            # Move the sliding window by one position to the right\n            windowCounter[s[left]] -= 1\n            if windowCounter[s[left]] == 0:\n                del windowCounter[s[left]]\n            \n            left += 1\n            right += 1\n            \n            if right < len(s):\n                windowCounter[s[right]] += 1\n        \n        return result\n\n# Driver code\ns = Solution()\nstring = \"cbaebabacd\"\npattern = \"abc\"\nindices = s.findAnagrams(string, pattern)\n\nprint(\"Start Indices of Anagrams:\", indices)\n",
      "metadata": {
        "trusted": true
      },
      "execution_count": 8,
      "outputs": [
        {
          "name": "stdout",
          "text": "Start Indices of Anagrams: [0, 6]\n",
          "output_type": "stream"
        }
      ]
    },
    {
      "cell_type": "code",
      "source": "class Solution:\n    def decodeString(self, s: str) -> str:\n        countStack = []\n        stringStack = []\n        \n        currentString = \"\"\n        currentCount = 0\n        \n        for ch in s:\n            if ch.isdigit():\n                currentCount = currentCount * 10 + int(ch)\n            elif ch == \"[\":\n                countStack.append(currentCount)\n                stringStack.append(currentString)\n                \n                currentCount = 0\n                currentString = \"\"\n            elif ch == \"]\":\n                repeatCount = countStack.pop()\n                decodedString = stringStack.pop()\n                \n                currentString = decodedString + repeatCount * currentString\n            else:\n                currentString += ch\n        \n        return currentString\n\n# Driver code\ns = Solution()\nencodedString = \"3[a2[c]]\"\ndecodedString = s.decodeString(encodedString)\n\nprint(\"Decoded String:\", decodedString)\n",
      "metadata": {
        "trusted": true
      },
      "execution_count": 9,
      "outputs": [
        {
          "name": "stdout",
          "text": "Decoded String: accaccacc\n",
          "output_type": "stream"
        }
      ]
    },
    {
      "cell_type": "code",
      "source": "class Solution:\n    def canSwapLetters(self, s: str, goal: str) -> bool:\n        if len(s) != len(goal):\n            return False  # Lengths are different, swapping not possible\n        \n        diff_count = 0  # Count of differing positions\n        diff_indices = [0, 0]  # List to store the differing indices\n        \n        for i in range(len(s)):\n            if s[i] != goal[i]:\n                if diff_count == 2:\n                    return False  # More than two differing positions, swapping not possible\n                diff_indices[diff_count] = i\n                diff_count += 1\n        \n        if diff_count != 2:\n            return False  # Number of differing positions is not exactly two, swapping not possible\n        \n        # Check if swapping the characters at the differing indices results in goal\n        return s[diff_indices[0]] == goal[diff_indices[1]] and s[diff_indices[1]] == goal[diff_indices[0]]\n\n\n# Driver code\ns = Solution()\nstring_s = \"abcd\"\nstring_goal = \"cbad\"\ncan_swap = s.canSwapLetters(string_s, string_goal)\n\nprint(\"Can Swap Letters:\", can_swap)\n",
      "metadata": {
        "trusted": true
      },
      "execution_count": 10,
      "outputs": [
        {
          "name": "stdout",
          "text": "Can Swap Letters: True\n",
          "output_type": "stream"
        }
      ]
    },
    {
      "cell_type": "code",
      "source": "",
      "metadata": {},
      "execution_count": null,
      "outputs": []
    }
  ]
}