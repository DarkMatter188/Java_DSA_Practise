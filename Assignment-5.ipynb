{
  "metadata": {
    "language_info": {
      "codemirror_mode": {
        "name": "python",
        "version": 3
      },
      "file_extension": ".py",
      "mimetype": "text/x-python",
      "name": "python",
      "nbconvert_exporter": "python",
      "pygments_lexer": "ipython3",
      "version": "3.8"
    },
    "kernelspec": {
      "name": "python",
      "display_name": "Python (Pyodide)",
      "language": "python"
    }
  },
  "nbformat_minor": 4,
  "nbformat": 4,
  "cells": [
    {
      "cell_type": "code",
      "source": "class Solution:\n    def construct2DArray(self, original, m, n):\n        total_elements = len(original)\n        if total_elements != m * n:\n            return []\n\n        result = [[0] * n for _ in range(m)]\n        index = 0\n\n        for i in range(m):\n            for j in range(n):\n                result[i][j] = original[index]\n                index += 1\n\n        return result\n",
      "metadata": {
        "trusted": true
      },
      "execution_count": 1,
      "outputs": []
    },
    {
      "cell_type": "code",
      "source": "class Solution:\n    def arrangeCoins(self, n):\n        left = 0\n        right = n\n        k = 0\n\n        while left <= right:\n            mid = left + (right - left) // 2\n            curr = mid * (mid + 1) // 2\n\n            if curr == n:\n                return mid\n            elif curr < n:\n                left = mid + 1\n                k = mid\n            else:\n                right = mid - 1\n\n        return k\n",
      "metadata": {
        "trusted": true
      },
      "execution_count": 2,
      "outputs": []
    },
    {
      "cell_type": "code",
      "source": "class Solution:\n    def sortedSquares(self, nums):\n        n = len(nums)\n        result = [0] * n\n        left = 0\n        right = n - 1\n        index = n - 1\n\n        while left <= right:\n            leftSquare = nums[left] * nums[left]\n            rightSquare = nums[right] * nums[right]\n\n            if leftSquare > rightSquare:\n                result[index] = leftSquare\n                left += 1\n            else:\n                result[index] = rightSquare\n                right -= 1\n\n            index -= 1\n\n        return result\n\n# Driver function to test the code\ndef test_sortedSquares():\n    solution = Solution()\n\n    # Example input: [-4, -1, 0, 3, 10]\n    nums = [-4, -1, 0, 3, 10]\n    sortedSquares = solution.sortedSquares(nums)\n    print(\"Sorted squares:\", sortedSquares)\n\n# Call the driver function\ntest_sortedSquares()\n",
      "metadata": {
        "trusted": true
      },
      "execution_count": 3,
      "outputs": [
        {
          "name": "stdout",
          "text": "Sorted squares: [0, 1, 9, 16, 100]\n",
          "output_type": "stream"
        }
      ]
    },
    {
      "cell_type": "code",
      "source": "from typing import List\n\nclass Solution:\n    def findDistinct(self, nums1: List[int], nums2: List[int]) -> List[List[int]]:\n        s1 = set(nums1)\n        s2 = set(nums2)\n\n        diff1 = s1 - s2\n        diff2 = s2 - s1\n\n        result = [list(diff1), list(diff2)]\n\n        return result\n\n# Driver function to test the code\ndef test_findDistinct():\n    solution = Solution()\n\n    # Example input: nums1 = [1, 2, 2, 3, 4, 5], nums2 = [2, 4, 6, 8]\n    nums1 = [1, 2, 2, 3, 4, 5]\n    nums2 = [2, 4, 6, 8]\n    distinctIntegers = solution.findDistinct(nums1, nums2)\n    print(\"Distinct integers in nums1 not present in nums2:\", distinctIntegers[0])\n    print(\"Distinct integers in nums2 not present in nums1:\", distinctIntegers[1])\n\n# Call the driver function\ntest_findDistinct()\n",
      "metadata": {
        "trusted": true
      },
      "execution_count": 4,
      "outputs": [
        {
          "name": "stdout",
          "text": "Distinct integers in nums1 not present in nums2: [1, 3, 5]\nDistinct integers in nums2 not present in nums1: [8, 6]\n",
          "output_type": "stream"
        }
      ]
    },
    {
      "cell_type": "code",
      "source": "class Solution:\n    def findTheDistance(self, arr1, arr2, d):\n        distance = 0\n        for num1 in arr1:\n            isValid = True\n            for num2 in arr2:\n                if abs(num1 - num2) <= d:\n                    isValid = False\n                    break\n            if isValid:\n                distance += 1\n        return distance\n\n# Driver function to test the code\ndef test_findTheDistance():\n    solution = Solution()\n\n    # Example input: arr1 = [1, 2, 3, 4, 5], arr2 = [2, 4, 6, 8], d = 2\n    arr1 = [1, 2, 3, 4, 5]\n    arr2 = [2, 4, 6, 8]\n    d = 2\n    distance = solution.findTheDistance(arr1, arr2, d)\n    print(\"Distance:\", distance)\n\n# Call the driver function\ntest_findTheDistance()\n",
      "metadata": {
        "trusted": true
      },
      "execution_count": 6,
      "outputs": [
        {
          "name": "stdout",
          "text": "Distance: 0\n",
          "output_type": "stream"
        }
      ]
    },
    {
      "cell_type": "code",
      "source": "from typing import List\n\nclass Solution:\n    def findDuplicates(self, nums: List[int]) -> List[int]:\n        duplicates = []\n        for num in nums:\n            idx = abs(num) - 1\n            if nums[idx] < 0:\n                duplicates.append(idx + 1)\n            nums[idx] = -nums[idx]\n        return duplicates\n\n# Driver function to test the code\ndef test_findDuplicates():\n    solution = Solution()\n\n    # Example input: nums = [4, 3, 2, 7, 8, 2, 3, 1]\n    nums = [4, 3, 2, 7, 8, 2, 3, 1]\n    duplicates = solution.findDuplicates(nums)\n    print(\"Duplicates:\", duplicates)\n\n# Call the driver function\ntest_findDuplicates()\n",
      "metadata": {
        "trusted": true
      },
      "execution_count": 7,
      "outputs": [
        {
          "name": "stdout",
          "text": "Duplicates: [2, 3]\n",
          "output_type": "stream"
        }
      ]
    },
    {
      "cell_type": "code",
      "source": "class Solution:\n    def findMin(self, nums):\n        left = 0\n        right = len(nums) - 1\n\n        while left < right:\n            mid = left + (right - left) // 2\n\n            if mid > 0 and nums[mid] < nums[mid - 1]:\n                return nums[mid]\n            elif nums[mid] >= nums[left] and nums[mid] >= nums[right]:\n                left = mid + 1\n            else:\n                right = mid - 1\n\n        return nums[left]\n\n# Driver function to test the code\ndef test_findMin():\n    solution = Solution()\n\n    # Example input: nums = [4, 5, 6, 7, 0, 1, 2]\n    nums = [4, 5, 6, 7, 0, 1, 2]\n    min_value = solution.findMin(nums)\n    print(\"Minimum value:\", min_value)\n\n# Call the driver function\ntest_findMin()\n",
      "metadata": {
        "trusted": true
      },
      "execution_count": 8,
      "outputs": [
        {
          "name": "stdout",
          "text": "Minimum value: 0\n",
          "output_type": "stream"
        }
      ]
    },
    {
      "cell_type": "code",
      "source": "from typing import List, Set\n\nclass Solution:\n    def findOriginalArray(self, changed: List[int]) -> List[int]:\n        if len(changed) % 2 != 0:\n            return []  # If the length is odd, it can't be a doubled array\n\n        original_set: Set[int] = set()\n\n        for num in changed:\n            if num // 2 in original_set:\n                original_set.remove(num // 2)\n            else:\n                original_set.add(num)\n\n        if original_set:\n            return []  # Some elements were not paired, so it's not a doubled array\n\n        original: List[int] = [num // 2 for num in changed]\n\n        return original\n\n# Driver function to test the code\ndef test_findOriginalArray():\n    solution = Solution()\n\n    # Example input: changed = [1, 3, 2, 3, 4, 6, 4, 8]\n    changed = [1, 3, 2, 3, 4, 6, 4, 8]\n    original = solution.findOriginalArray(changed)\n    print(\"Original array:\", original)\n\n# Call the driver function\ntest_findOriginalArray()\n",
      "metadata": {
        "trusted": true
      },
      "execution_count": 9,
      "outputs": [
        {
          "name": "stdout",
          "text": "Original array: [0, 1, 1, 1, 2, 3, 2, 4]\n",
          "output_type": "stream"
        }
      ]
    },
    {
      "cell_type": "code",
      "source": "",
      "metadata": {},
      "execution_count": null,
      "outputs": []
    }
  ]
}