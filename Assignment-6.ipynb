{
  "metadata": {
    "language_info": {
      "codemirror_mode": {
        "name": "python",
        "version": 3
      },
      "file_extension": ".py",
      "mimetype": "text/x-python",
      "name": "python",
      "nbconvert_exporter": "python",
      "pygments_lexer": "ipython3",
      "version": "3.8"
    },
    "kernelspec": {
      "name": "python",
      "display_name": "Python (Pyodide)",
      "language": "python"
    }
  },
  "nbformat_minor": 4,
  "nbformat": 4,
  "cells": [
    {
      "cell_type": "code",
      "source": "from typing import List\n\nclass Solution:\n    def diStringMatch(self, s: str) -> List[int]:\n        output = []\n        low = 0\n        high = len(s)\n        \n        for c in s:\n            if c == 'I':\n                output.append(low)\n                low += 1\n            else:\n                output.append(high)\n                high -= 1\n        \n        output.append(low)\n        \n        return output\n\n# Driver function to test the code\ndef test_diStringMatch():\n    solution = Solution()\n\n    # Example input: s = \"IDID\"\n    s = \"IDID\"\n    res = solution.diStringMatch(s)\n    print(\"Result:\", res)\n\n# Call the driver function\ntest_diStringMatch()\n",
      "metadata": {
        "trusted": true
      },
      "execution_count": 1,
      "outputs": [
        {
          "name": "stdout",
          "text": "Result: [0, 4, 1, 3, 2]\n",
          "output_type": "stream"
        }
      ]
    },
    {
      "cell_type": "code",
      "source": "from typing import List\n\nclass Solution:\n    def searchMatrix(self, matrix: List[List[int]], target: int) -> bool:\n        m = len(matrix)\n        n = len(matrix[0])\n        \n        if m == 0:\n            return False\n        \n        low = 0\n        high = m * n - 1\n        \n        while low <= high:\n            midIdx = low + (high - low) // 2\n            rowIdx = midIdx // n\n            colIdx = midIdx % n\n            midEle = matrix[rowIdx][colIdx]\n            \n            if target == midEle:\n                return True\n            elif target < midEle:\n                high = midIdx - 1\n            else:\n                low = midIdx + 1\n        \n        return False\n\n# Driver function to test the code\ndef test_searchMatrix():\n    solution = Solution()\n\n    # Example input: matrix = [[1, 3, 5, 7], [10, 11, 16, 20], [23, 30, 34, 60]], target = 3\n    matrix = [[1, 3, 5, 7], [10, 11, 16, 20], [23, 30, 34, 60]]\n    target = 3\n    res = solution.searchMatrix(matrix, target)\n    print(\"Result:\", res)\n\n# Call the driver function\ntest_searchMatrix()\n",
      "metadata": {
        "trusted": true
      },
      "execution_count": 2,
      "outputs": [
        {
          "name": "stdout",
          "text": "Result: True\n",
          "output_type": "stream"
        }
      ]
    },
    {
      "cell_type": "code",
      "source": "from typing import List\n\nclass Solution:\n    def validMountainArray(self, arr: List[int]) -> bool:\n        n = len(arr)\n        if n < 3:\n            return False\n        \n        i = 0\n        while i < n - 1 and arr[i] < arr[i + 1]:\n            i += 1\n        \n        if i == 0 or i == n - 1:\n            return False\n        \n        while i < n - 1 and arr[i] > arr[i + 1]:\n            i += 1\n        \n        return i == n - 1\n\n# Driver function to test the code\ndef test_validMountainArray():\n    solution = Solution()\n\n    # Example input: arr = [0, 3, 2, 1]\n    arr = [0, 3, 2, 1]\n    res = solution.validMountainArray(arr)\n    print(\"Result:\", res)\n\n# Call the driver function\ntest_validMountainArray()\n",
      "metadata": {
        "trusted": true
      },
      "execution_count": 3,
      "outputs": [
        {
          "name": "stdout",
          "text": "Result: True\n",
          "output_type": "stream"
        }
      ]
    },
    {
      "cell_type": "code",
      "source": "from typing import List\n\nclass ContiguousSubarray:\n    @staticmethod\n    def findMaxLength(nums: List[int]) -> int:\n        maxLength = 0\n        count = 0\n        map = {0: -1}\n\n        for i in range(len(nums)):\n            if nums[i] == 0:\n                count -= 1\n            else:\n                count += 1\n\n            if count in map:\n                maxLength = max(maxLength, i - map[count])\n            else:\n                map[count] = i\n\n        return maxLength\n\n# Driver function to test the code\ndef test_findMaxLength():\n    nums = [0, 1, 0, 0, 1, 1, 0]\n    maxLength = ContiguousSubarray.findMaxLength(nums)\n    print(\"Max Length:\", maxLength)\n\n# Call the driver function\ntest_findMaxLength()\n",
      "metadata": {
        "trusted": true
      },
      "execution_count": 4,
      "outputs": [
        {
          "name": "stdout",
          "text": "Max Length: 6\n",
          "output_type": "stream"
        }
      ]
    },
    {
      "cell_type": "code",
      "source": "from typing import List\n\nclass MinimumProductSum:\n    @staticmethod\n    def minProductSum(nums1: List[int], nums2: List[int]) -> int:\n        n = len(nums1)\n        nums1.sort()\n        nums2.sort(reverse=True)\n\n        minProductSum = 0\n        for i in range(n):\n            minProductSum += nums1[i] * nums2[i]\n\n        return minProductSum\n\n# Driver function to test the code\ndef test_minProductSum():\n    nums1 = [1, 2, 3, 4]\n    nums2 = [5, 2, 3, 1]\n\n    minProductSum = MinimumProductSum.minProductSum(nums1, nums2)\n    print(\"Min Product Sum:\", minProductSum)\n\n# Call the driver function\ntest_minProductSum()\n",
      "metadata": {
        "trusted": true
      },
      "execution_count": 5,
      "outputs": [
        {
          "name": "stdout",
          "text": "Min Product Sum: 21\n",
          "output_type": "stream"
        }
      ]
    },
    {
      "cell_type": "code",
      "source": "from typing import List\nfrom collections import Counter\n\nclass DoubledArray:\n    @staticmethod\n    def findOriginalArray(changed: List[int]) -> List[int]:\n        n = len(changed)\n        if n % 2 != 0:\n            return []\n\n        frequencyMap = Counter(changed)\n        originalList = []\n        for num in changed:\n            if frequencyMap[num] > 0:\n                if num % 2 != 0 or frequencyMap[num // 2] == 0:\n                    return []\n                originalList.append(num // 2)\n                frequencyMap[num // 2] -= 1\n\n        return originalList\n\n# Driver function to test the code\ndef test_findOriginalArray():\n    changed = [6, 3, 0, 1, 2, 12, 9, 5]\n    original = DoubledArray.findOriginalArray(changed)\n\n    if len(original) == 0:\n        print(\"Empty array\")\n    else:\n        print(\"Original array:\", original)\n\n# Call the driver function\ntest_findOriginalArray()\n",
      "metadata": {
        "trusted": true
      },
      "execution_count": 6,
      "outputs": [
        {
          "name": "stdout",
          "text": "Empty array\n",
          "output_type": "stream"
        }
      ]
    },
    {
      "cell_type": "code",
      "source": "def generateMatrix(n: int) -> List[List[int]]:\n    matrix = [[0] * n for _ in range(n)]\n    num = 1\n    rowStart, rowEnd = 0, n - 1\n    colStart, colEnd = 0, n - 1\n\n    while num <= n * n:\n        # Traverse right\n        for col in range(colStart, colEnd + 1):\n            matrix[rowStart][col] = num\n            num += 1\n        rowStart += 1\n\n        # Traverse down\n        for row in range(rowStart, rowEnd + 1):\n            matrix[row][colEnd] = num\n            num += 1\n        colEnd -= 1\n\n        # Traverse left\n        if rowStart <= rowEnd:\n            for col in range(colEnd, colStart - 1, -1):\n                matrix[rowEnd][col] = num\n                num += 1\n            rowEnd -= 1\n\n        # Traverse up\n        if colStart <= colEnd:\n            for row in range(rowEnd, rowStart - 1, -1):\n                matrix[row][colStart] = num\n                num += 1\n            colStart += 1\n\n    return matrix\n\n# Driver code to test the function\nn = 4\nmatrix = generateMatrix(n)\n\n# Print the matrix\nfor row in matrix:\n    print(' '.join(str(num) for num in row))\n",
      "metadata": {
        "trusted": true
      },
      "execution_count": 7,
      "outputs": [
        {
          "name": "stdout",
          "text": "1 2 3 4\n12 13 14 5\n11 16 15 6\n10 9 8 7\n",
          "output_type": "stream"
        }
      ]
    },
    {
      "cell_type": "code",
      "source": "def multiply(mat1: List[List[int]], mat2: List[List[int]]) -> List[List[int]]:\n    m = len(mat1)\n    k = len(mat1[0])\n    n = len(mat2[0])\n\n    result = [[0] * n for _ in range(m)]\n    sparseMat1 = {}\n\n    # Convert mat1 to sparse matrix representation\n    for i in range(m):\n        row = {}\n        for j in range(k):\n            if mat1[i][j] != 0:\n                row[j] = mat1[i][j]\n        sparseMat1[i] = row\n\n    # Perform matrix multiplication\n    for i in range(m):\n        for j in range(n):\n            sum = 0\n            for p in range(k):\n                if i in sparseMat1 and p in sparseMat1[i]:\n                    sum += sparseMat1[i][p] * mat2[p][j]\n            result[i][j] = sum\n\n    return result\n\n# Driver code to test the function\nmat1 = [[1, 0, 0], [-1, 0, 3]]\nmat2 = [[7, 0, 0], [0, 0, 0], [0, 0, 1]]\n\nresult = multiply(mat1, mat2)\n\n# Print the result matrix\nfor row in result:\n    print(' '.join(str(num) for num in row))\n",
      "metadata": {
        "trusted": true
      },
      "execution_count": 8,
      "outputs": [
        {
          "name": "stdout",
          "text": "7 0 0\n-7 0 3\n",
          "output_type": "stream"
        }
      ]
    },
    {
      "cell_type": "code",
      "source": "",
      "metadata": {},
      "execution_count": null,
      "outputs": []
    }
  ]
}