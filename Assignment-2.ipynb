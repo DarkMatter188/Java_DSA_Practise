{
  "metadata": {
    "language_info": {
      "codemirror_mode": {
        "name": "python",
        "version": 3
      },
      "file_extension": ".py",
      "mimetype": "text/x-python",
      "name": "python",
      "nbconvert_exporter": "python",
      "pygments_lexer": "ipython3",
      "version": "3.8"
    },
    "kernelspec": {
      "name": "python",
      "display_name": "Python (Pyodide)",
      "language": "python"
    }
  },
  "nbformat_minor": 4,
  "nbformat": 4,
  "cells": [
    {
      "cell_type": "code",
      "source": "class Solution:\n    def arrayPairSum(self, nums):\n        # Sort the array in ascending order\n        nums.sort()\n        \n        # Initialize sum to 0\n        sum = 0\n        \n        # Sum the minimum element of each pair\n        for i in range(0, len(nums), 2):\n            sum += nums[i]\n        \n        return sum\n\n# Create an instance of the Solution class\nsolution = Solution()\n\n# Example input: [1, 4, 3, 2]\nnums = [1, 4, 3, 2]\n\n# Calculate the maximum sum\nmaximum_sum = solution.arrayPairSum(nums)\n\n# Print the result\nprint(\"Maximized sum:\", maximum_sum)\n",
      "metadata": {
        "trusted": true
      },
      "execution_count": 1,
      "outputs": [
        {
          "name": "stdout",
          "text": "Maximized sum: 4\n",
          "output_type": "stream"
        }
      ]
    },
    {
      "cell_type": "code",
      "source": "class Solution:\n    def distributeCandies(self, candyType):\n        # Calculate the maximum number of unique candies Alice can eat\n        max_candies = len(candyType) // 2\n\n        # Use a set to store the unique candy types\n        unique_candies = set()\n\n        # Iterate over the candy types and add them to the set\n        for candy in candyType:\n            unique_candies.add(candy)\n\n        # Return the minimum of the number of unique candies and max_candies\n        return min(len(unique_candies), max_candies)\n\n\nif __name__ == \"__main__\":\n    solution = Solution()\n\n    # Example input: [1, 1, 2, 2, 3, 3]\n    candy_type = [1, 1, 2, 2, 3, 3]\n\n    max_number_candies = solution.distributeCandies(candy_type)\n\n    print(\"Max number of different candies:\", max_number_candies)\n",
      "metadata": {
        "trusted": true
      },
      "execution_count": 1,
      "outputs": [
        {
          "name": "stdout",
          "text": "Max number of different candies: 3\n",
          "output_type": "stream"
        }
      ]
    },
    {
      "cell_type": "code",
      "source": "from collections import defaultdict\n\nclass Solution:\n    def findLHS(self, nums):\n        # Create a dictionary to count the frequency of each number\n        count_map = defaultdict(int)\n\n        # Populate the count map\n        for num in nums:\n            count_map[num] += 1\n\n        max_length = 0\n\n        # Iterate over the unique numbers in the array\n        for num in count_map:\n            # Check if the number and its adjacent number form a harmonious subsequence\n            if num + 1 in count_map:\n                length = count_map[num] + count_map[num + 1]\n                max_length = max(max_length, length)\n\n        return max_length\n\n\nif __name__ == \"__main__\":\n    solution = Solution()\n\n    # Example input: [1, 3, 2, 2, 5, 2, 3, 7]\n    nums = [1, 3, 2, 2, 5, 2, 3, 7]\n\n    longest_harmonious_subsequence_length = solution.findLHS(nums)\n\n    print(\"Length of longest harmonious subsequence:\", longest_harmonious_subsequence_length)\n",
      "metadata": {
        "trusted": true
      },
      "execution_count": 2,
      "outputs": [
        {
          "name": "stdout",
          "text": "Length of longest harmonious subsequence: 5\n",
          "output_type": "stream"
        }
      ]
    },
    {
      "cell_type": "code",
      "source": "class Solution:\n    def canPlaceFlowers(self, flowerbed, n):\n        count = 0\n        i = 0\n\n        while i < len(flowerbed):\n            if flowerbed[i] == 0 and (i == 0 or flowerbed[i - 1] == 0) and (i == len(flowerbed) - 1 or flowerbed[i + 1] == 0):\n                flowerbed[i] = 1\n                count += 1\n\n            if count >= n:\n                return True\n\n            i += 1\n\n        return False\n\n\nif __name__ == \"__main__\":\n    solution = Solution()\n\n    # Example input: [1, 0, 0, 0, 1], n = 1\n    flowerbed = [1, 0, 0, 0, 1]\n    n = 1\n\n    can_plant = solution.canPlaceFlowers(flowerbed, n)\n\n    print(\"Can plant flowers:\", can_plant)\n",
      "metadata": {
        "trusted": true
      },
      "execution_count": 3,
      "outputs": [
        {
          "name": "stdout",
          "text": "Can plant flowers: True\n",
          "output_type": "stream"
        }
      ]
    },
    {
      "cell_type": "code",
      "source": "class Solution:\n    def maximumProduct(self, nums):\n        # Sort the array in ascending order\n        nums.sort()\n\n        n = len(nums)\n\n        # Maximum product can be achieved by either multiplying the three largest numbers\n        # or multiplying the two smallest (negative) numbers with the largest number\n        return max(nums[0] * nums[1] * nums[n - 1], nums[n - 3] * nums[n - 2] * nums[n - 1])\n\n\nif __name__ == \"__main__\":\n    solution = Solution()\n\n    # Example input: [-4, -2, 1, 3, 5]\n    nums = [-4, -2, 1, 3, 5]\n\n    max_product_item = solution.maximumProduct(nums)\n\n    print(\"Maximum product:\", max_product_item)\n",
      "metadata": {
        "trusted": true
      },
      "execution_count": 4,
      "outputs": [
        {
          "name": "stdout",
          "text": "Maximum product: 40\n",
          "output_type": "stream"
        }
      ]
    },
    {
      "cell_type": "code",
      "source": "class Solution:\n    def search(self, nums, target):\n        left = 0\n        right = len(nums) - 1\n\n        while left <= right:\n            mid = left + (right - left) // 2\n\n            if nums[mid] == target:\n                return mid\n            elif nums[mid] < target:\n                left = mid + 1\n            else:\n                right = mid - 1\n\n        return -1\n\n\nif __name__ == \"__main__\":\n    solution = Solution()\n\n    # Example input: [1, 3, 5, 7, 9], target = 5\n    nums = [1, 3, 5, 7, 9]\n    target = 5\n\n    index_value = solution.search(nums, target)\n\n    print(\"Index of target:\", index_value)\n",
      "metadata": {
        "trusted": true
      },
      "execution_count": 5,
      "outputs": [
        {
          "name": "stdout",
          "text": "Index of target: 2\n",
          "output_type": "stream"
        }
      ]
    },
    {
      "cell_type": "code",
      "source": "class Solution:\n    def isMonotonic(self, nums):\n        increasing = True\n        decreasing = True\n\n        for i in range(1, len(nums)):\n            if nums[i] < nums[i - 1]:\n                increasing = False\n\n            if nums[i] > nums[i - 1]:\n                decreasing = False\n\n        return increasing or decreasing\n\n\nif __name__ == \"__main__\":\n    solution = Solution()\n\n    # Example input: [1, 2, 3, 4, 5]\n    nums = [1, 2, 3, 4, 5]\n\n    is_monotonic = solution.isMonotonic(nums)\n\n    print(\"Is monotonic:\", is_monotonic)\n",
      "metadata": {
        "trusted": true
      },
      "execution_count": 6,
      "outputs": [
        {
          "name": "stdout",
          "text": "Is monotonic: True\n",
          "output_type": "stream"
        }
      ]
    },
    {
      "cell_type": "code",
      "source": "class Solution:\n    def minScore(self, nums, k):\n        n = len(nums)\n        min_score = float('inf')\n\n        for i in range(n):\n            for x in range(-k, k + 1):\n                minimum = float('inf')\n                maximum = float('-inf')\n\n                for j in range(n):\n                    new_value = nums[j] + x if j == i else nums[j]\n                    minimum = min(minimum, new_value)\n                    maximum = max(maximum, new_value)\n\n                score = maximum - minimum\n                min_score = min(min_score, score)\n\n        return min_score\n\n\nif __name__ == \"__main__\":\n    solution = Solution()\n\n    # Example input: [1, 3, 7], k = 3\n    nums = [1, 3, 7]\n    k = 3\n\n    min_score = solution.minScore(nums, k)\n\n    print(\"Minimum score:\", min_score)\n",
      "metadata": {
        "trusted": true
      },
      "execution_count": 7,
      "outputs": [
        {
          "name": "stdout",
          "text": "Minimum score: 3\n",
          "output_type": "stream"
        }
      ]
    },
    {
      "cell_type": "code",
      "source": "",
      "metadata": {},
      "execution_count": null,
      "outputs": []
    }
  ]
}