{
  "metadata": {
    "language_info": {
      "codemirror_mode": {
        "name": "python",
        "version": 3
      },
      "file_extension": ".py",
      "mimetype": "text/x-python",
      "name": "python",
      "nbconvert_exporter": "python",
      "pygments_lexer": "ipython3",
      "version": "3.8"
    },
    "kernelspec": {
      "name": "python",
      "display_name": "Python (Pyodide)",
      "language": "python"
    }
  },
  "nbformat_minor": 4,
  "nbformat": 4,
  "cells": [
    {
      "cell_type": "code",
      "source": "def doubleSum(nums, target):\n    # Create a dictionary to store the complement of each number\n    my_dict = {}\n\n    # Iterate through the array\n    for i, num in enumerate(nums):\n        # Check if the complement exists in the dictionary\n        if num in my_dict:\n            # Return the indices of the two numbers\n            return [my_dict[num], i]\n        else:\n            # Store the complement and its index in the dictionary\n            my_dict[target - num] = i\n    return []\nnums = [2, 7, 11, 15]\ntarget = 9\nresult = doubleSum(nums, target)\nprint(result)\n",
      "metadata": {
        "trusted": true
      },
      "execution_count": 2,
      "outputs": [
        {
          "name": "stdout",
          "text": "[0, 1]\n",
          "output_type": "stream"
        }
      ]
    },
    {
      "cell_type": "code",
      "source": "def removeElement(nums, val):\n    k = 0  # Counter for the number of elements not equal to val\n\n    # Iterate through the array\n    for i in range(len(nums)):\n        # If the current element is not equal to val, move it to the front\n        if nums[i] != val:\n            nums[k] = nums[i]\n            k += 1\n    return k\nnums = [3, 2, 2, 3]\nval = 3\nresult = removeElement(nums, val)\nprint(result)\nprint(nums[:result])",
      "metadata": {
        "trusted": true
      },
      "execution_count": 3,
      "outputs": [
        {
          "name": "stdout",
          "text": "2\n[2, 2]\n",
          "output_type": "stream"
        }
      ]
    },
    {
      "cell_type": "code",
      "source": "def searchInsert(nums, target):\n    left = 0\n    right = len(nums) - 1\n    while left <= right:\n        mid = (left + right) // 2\n\n        if nums[mid] == target:\n            return mid\n        elif nums[mid] < target:\n            left = mid + 1\n        else:\n            right = mid - 1\n    return left\nnums = [1, 3, 5, 6]\ntarget = 5\nresult = searchInsert(nums, target)\nprint(result)\n",
      "metadata": {
        "trusted": true
      },
      "execution_count": 4,
      "outputs": [
        {
          "name": "stdout",
          "text": "2\n",
          "output_type": "stream"
        }
      ]
    },
    {
      "cell_type": "code",
      "source": "def addOne(digits):\n    n = len(digits)\n    \n    # Iterate from the rightmost digit\n    for i in range(n - 1, -1, -1):\n        # Increment the current digit by 1\n        digits[i] += 1\n        \n        # If the current digit is less than 10, no carry needed, return the digits\n        if digits[i] < 10:\n            return digits\n        \n        # If the current digit is 10, set it to 0 and carry the 1 to the next digit\n        digits[i] = 0\n    digits.insert(0, 1)\n    \n    return digits\n\ndigits = [1, 2, 9]\nresult = addOne(digits)\nprint(result)\n",
      "metadata": {
        "trusted": true
      },
      "execution_count": 5,
      "outputs": [
        {
          "name": "stdout",
          "text": "[1, 3, 0]\n",
          "output_type": "stream"
        }
      ]
    },
    {
      "cell_type": "code",
      "source": "def merge_arr(nums1, m, nums2, n):\n    # Start merging from the end of the merged array\n    i = m - 1\n    j = n - 1\n    k = m + n - 1\n\n    while i >= 0 and j >= 0:\n        if nums1[i] >= nums2[j]:\n            nums1[k] = nums1[i]\n            i -= 1\n        else:\n            nums1[k] = nums2[j]\n            j -= 1\n        k -= 1\n    while j >= 0:\n        nums1[k] = nums2[j]\n        j -= 1\n        k -= 1\n\nnums1 = [1, 2, 3, 0, 0, 0]\nm = 3\nnums2 = [2, 5, 6]\nn = 3\nmerge_arr(nums1, m, nums2, n)\nprint(nums1)\n",
      "metadata": {
        "trusted": true
      },
      "execution_count": 6,
      "outputs": [
        {
          "name": "stdout",
          "text": "[1, 2, 2, 3, 5, 6]\n",
          "output_type": "stream"
        }
      ]
    },
    {
      "cell_type": "code",
      "source": "def hasDuplicate(nums):\n    num_set = set()\n\n    for num in nums:\n        if num in num_set:\n            return True\n        else:\n            num_set.add(num)\n\n    return False\n\n\nnums = [1, 2, 3, 0]\nresult = hasDuplicate(nums)\nprint(result)\n",
      "metadata": {
        "trusted": true
      },
      "execution_count": 7,
      "outputs": [
        {
          "name": "stdout",
          "text": "False\n",
          "output_type": "stream"
        }
      ]
    },
    {
      "cell_type": "code",
      "source": "def moveZeroesEnd(nums):\n    # Initialize a pointer to keep track of the position to place the next nonzero element\n    next_nonzero = 0\n\n    # Iterate through the array\n    for num in nums:\n        if num != 0:\n            # If the current element is nonzero, move it to the next_nonzero position\n            nums[next_nonzero] = num\n            next_nonzero += 1\n\n    # Fill the remaining elements with zeros\n    while next_nonzero < len(nums):\n        nums[next_nonzero] = 0\n        next_nonzero += 1\n\n\nnums = [0, 1, 0, 3, 12, 0, 9]\nmoveZeroesEnd(nums)\nprint(nums)\n",
      "metadata": {
        "trusted": true
      },
      "execution_count": 8,
      "outputs": [
        {
          "name": "stdout",
          "text": "[1, 3, 12, 9, 0, 0, 0]\n",
          "output_type": "stream"
        }
      ]
    },
    {
      "cell_type": "code",
      "source": "def findMissNums(nums):\n    n = len(nums)\n    num_set = set()\n    duplicate = -1\n    missing = -1\n\n    # Find the duplicate and missing numbers\n    for num in nums:\n        if num in num_set:\n            duplicate = num\n        else:\n            num_set.add(num)\n\n    for i in range(1, n + 1):\n        if i not in num_set:\n            missing = i\n            break\n\n    return [duplicate, missing]\nnums = [1, 2, 2, 4]\nresult = findMissNums(nums)\nprint(result)\n",
      "metadata": {
        "trusted": true
      },
      "execution_count": 9,
      "outputs": [
        {
          "name": "stdout",
          "text": "[2, 3]\n",
          "output_type": "stream"
        }
      ]
    },
    {
      "cell_type": "code",
      "source": "",
      "metadata": {},
      "execution_count": null,
      "outputs": []
    }
  ]
}