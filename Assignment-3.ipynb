{
  "metadata": {
    "language_info": {
      "codemirror_mode": {
        "name": "python",
        "version": 3
      },
      "file_extension": ".py",
      "mimetype": "text/x-python",
      "name": "python",
      "nbconvert_exporter": "python",
      "pygments_lexer": "ipython3",
      "version": "3.8"
    },
    "kernelspec": {
      "name": "python",
      "display_name": "Python (Pyodide)",
      "language": "python"
    }
  },
  "nbformat_minor": 4,
  "nbformat": 4,
  "cells": [
    {
      "cell_type": "code",
      "source": "def threeSumClose(nums, target):\n    nums.sort()\n    n = len(nums)\n    closest_sum = float('inf')\n\n    for i in range(n - 2):\n        left = i + 1\n        right = n - 1\n\n        while left < right:\n            current_sum = nums[i] + nums[left] + nums[right]\n\n            if current_sum == target:\n                return current_sum\n\n            if abs(current_sum - target) < abs(closest_sum - target):\n                closest_sum = current_sum\n\n            if current_sum < target:\n                left += 1\n            else:\n                right -= 1\n\n    return closest_sum\n\nnums = [-1, 2, 1, -4]\ntarget = 1\nresult = threeSumClose(nums, target)\nprint(result)\n",
      "metadata": {
        "trusted": true
      },
      "execution_count": 1,
      "outputs": [
        {
          "name": "stdout",
          "text": "2\n",
          "output_type": "stream"
        }
      ]
    },
    {
      "cell_type": "code",
      "source": "def fourSumFunc(nums, target):\n    nums.sort()\n    n = len(nums)\n    quadruplets = []\n\n    for i in range(n - 3):\n        if i > 0 and nums[i] == nums[i - 1]:\n            continue\n\n        for j in range(i + 1, n - 2):\n            if j > i + 1 and nums[j] == nums[j - 1]:\n                continue\n\n            left = j + 1\n            right = n - 1\n\n            while left < right:\n                current_sum = nums[i] + nums[j] + nums[left] + nums[right]\n\n                if current_sum == target:\n                    quadruplets.append([nums[i], nums[j], nums[left], nums[right]])\n\n                    while left < right and nums[left] == nums[left + 1]:\n                        left += 1\n                    while left < right and nums[right] == nums[right - 1]:\n                        right -= 1\n\n                    left += 1\n                    right -= 1\n\n                elif current_sum < target:\n                    left += 1\n                else:\n                    right -= 1\n\n    return quadruplets\n\n# Example usage:\nnums = [1, 0, -1, 0, -2, 2]\ntarget = 0\nresult = fourSumFunc(nums, target)\nprint(result)\n",
      "metadata": {
        "trusted": true
      },
      "execution_count": 2,
      "outputs": [
        {
          "name": "stdout",
          "text": "[[-2, -1, 1, 2], [-2, 0, 0, 2], [-1, 0, 0, 1]]\n",
          "output_type": "stream"
        }
      ]
    },
    {
      "cell_type": "code",
      "source": "def nextPermutationResult(nums):\n    # Find the first decreasing element from the right\n    i = len(nums) - 2\n    while i >= 0 and nums[i] >= nums[i + 1]:\n        i -= 1\n\n    if i >= 0:\n        # Find the smallest element greater than nums[i] from the right\n        j = len(nums) - 1\n        while j >= 0 and nums[j] <= nums[i]:\n            j -= 1\n        nums[i], nums[j] = nums[j], nums[i]\n\n    left = i + 1\n    right = len(nums) - 1\n    while left < right:\n        nums[left], nums[right] = nums[right], nums[left]\n        left += 1\n        right -= 1\n\nnums = [1, 2, 3]\nnextPermutationResult(nums)\nprint(nums)\n",
      "metadata": {
        "trusted": true
      },
      "execution_count": 3,
      "outputs": [
        {
          "name": "stdout",
          "text": "[1, 3, 2]\n",
          "output_type": "stream"
        }
      ]
    },
    {
      "cell_type": "code",
      "source": "def searchInsertPlace(nums, target):\n    left = 0\n    right = len(nums) - 1\n\n    while left <= right:\n        mid = left + (right - left) // 2\n\n        if nums[mid] == target:\n            return mid\n        elif nums[mid] < target:\n            left = mid + 1\n        else:\n            right = mid - 1\n\n    return left\nnums = [1, 3, 5, 6]\ntarget = 5\nresult = searchInsertPlace(nums, target)\nprint(result)\n",
      "metadata": {
        "trusted": true
      },
      "execution_count": 4,
      "outputs": [
        {
          "name": "stdout",
          "text": "2\n",
          "output_type": "stream"
        }
      ]
    },
    {
      "cell_type": "code",
      "source": "def plusOneResult(digits):\n    n = len(digits)\n\n    # Start from the rightmost digit\n    for i in range(n - 1, -1, -1):\n        if digits[i] < 9:\n            # If the current digit is less than 9, increment it and return the digits\n            digits[i] += 1\n            return digits\n        else:\n            # If the current digit is 9, set it to 0 and continue to the next digit\n            digits[i] = 0\n\n    # If all digits are 9, create a new array with one additional element\n    new_digits = [0] * (n + 1)\n    new_digits[0] = 1\n\n    return new_digits\ndigits = [1, 2, 9]\nresult = plusOneResult(digits)\nprint(result)\n",
      "metadata": {
        "trusted": true
      },
      "execution_count": 5,
      "outputs": [
        {
          "name": "stdout",
          "text": "[1, 3, 0]\n",
          "output_type": "stream"
        }
      ]
    },
    {
      "cell_type": "code",
      "source": "def singleNumberResult(nums):\n    result = 0\n\n    for num in nums:\n        result ^= num\n\n    return result\n\nnums = [2, 2, 1]\nresult = singleNumberResult(nums)\nprint(result)\n",
      "metadata": {
        "trusted": true
      },
      "execution_count": 6,
      "outputs": [
        {
          "name": "stdout",
          "text": "1\n",
          "output_type": "stream"
        }
      ]
    },
    {
      "cell_type": "code",
      "source": "def findMissingRangesResult(nums, lower, upper):\n    missing_ranges = []\n    prev = lower - 1\n\n    for num in nums + [upper + 1]:\n        if num - prev > 1:\n            missing_ranges.append(formatRange(prev + 1, num - 1))\n\n        prev = num\n\n    return missing_ranges\n\ndef formatRange(start, end):\n    if start == end:\n        return str(start)\n    else:\n        return str(start) + \"->\" + str(end)\nnums = [0, 1, 3, 50, 75]\nlower = 0\nupper = 99\nresult = findMissingRangesResult(nums, lower, upper)\nprint(result)\n",
      "metadata": {
        "trusted": true
      },
      "execution_count": 7,
      "outputs": [
        {
          "name": "stdout",
          "text": "['2', '4->49', '51->74', '76->99']\n",
          "output_type": "stream"
        }
      ]
    },
    {
      "cell_type": "code",
      "source": "def canAttendMeetings(intervals):\n    intervals.sort(key=lambda x: x[0])  # Sort intervals based on start time\n\n    for i in range(1, len(intervals)):\n        if intervals[i][0] < intervals[i-1][1]:\n            return False\n\n    return True\nintervals = [[0, 30], [5, 10], [15, 20]]\nresult = canAttendMeetings(intervals)\nprint(result)\n",
      "metadata": {
        "trusted": true
      },
      "execution_count": 8,
      "outputs": [
        {
          "name": "stdout",
          "text": "False\n",
          "output_type": "stream"
        }
      ]
    },
    {
      "cell_type": "code",
      "source": "",
      "metadata": {},
      "execution_count": null,
      "outputs": []
    }
  ]
}