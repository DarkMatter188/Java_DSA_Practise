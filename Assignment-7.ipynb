{
  "metadata": {
    "language_info": {
      "codemirror_mode": {
        "name": "python",
        "version": 3
      },
      "file_extension": ".py",
      "mimetype": "text/x-python",
      "name": "python",
      "nbconvert_exporter": "python",
      "pygments_lexer": "ipython3",
      "version": "3.8"
    },
    "kernelspec": {
      "name": "python",
      "display_name": "Python (Pyodide)",
      "language": "python"
    }
  },
  "nbformat_minor": 4,
  "nbformat": 4,
  "cells": [
    {
      "cell_type": "code",
      "source": "def isIsomorphic(s: str, t: str) -> bool:\n    first = {}\n    for i in range(len(s)):\n        c1 = s[i]\n        c2 = t[i]\n        if c1 in first:\n            if first[c1] != c2:\n                return False\n        else:\n            if c2 in first.values():\n                return False\n        first[c1] = c2\n    return True\n\n# Driver code to test the function\ns = \"egg\"\nt = \"add\"\nisomorphic = isIsomorphic(s, t)\nprint(isomorphic)\n",
      "metadata": {
        "trusted": true
      },
      "execution_count": 1,
      "outputs": [
        {
          "name": "stdout",
          "text": "True\n",
          "output_type": "stream"
        }
      ]
    },
    {
      "cell_type": "code",
      "source": "def isStrobogrammaticNumber(num: str) -> bool:\n    mapping = {'0': '0', '1': '1', '6': '9', '8': '8', '9': '6'}\n    left = 0\n    right = len(num) - 1\n    \n    while left <= right:\n        left_char = num[left]\n        right_char = num[right]\n        \n        if left_char not in mapping or mapping[left_char] != right_char:\n            return False\n        \n        left += 1\n        right -= 1\n    \n    return True\n\n# Driver code to test the function\nnum = \"69\"\nis_strobogrammatic = isStrobogrammaticNumber(num)\n\nif is_strobogrammatic:\n    print(\"The number is strobogrammatic.\")\nelse:\n    print(\"The number is not strobogrammatic.\")\n",
      "metadata": {
        "trusted": true
      },
      "execution_count": 2,
      "outputs": [
        {
          "name": "stdout",
          "text": "The number is strobogrammatic.\n",
          "output_type": "stream"
        }
      ]
    },
    {
      "cell_type": "code",
      "source": "def addStrings(num1: str, num2: str) -> str:\n    i = len(num1) - 1\n    j = len(num2) - 1\n    carry = 0\n    sum_val = 0\n    result = []\n    \n    while i >= 0 or j >= 0:\n        num1_digit = int(num1[i]) if i >= 0 else 0\n        num2_digit = int(num2[j]) if j >= 0 else 0\n        sum_val = num1_digit + num2_digit + carry\n        result.append(str(sum_val % 10))\n        carry = sum_val // 10\n        i -= 1\n        j -= 1\n    \n    if carry > 0:\n        result.append(str(carry))\n    \n    return ''.join(result[::-1])\n\n# Driver code to test the function\nnum1 = \"123\"\nnum2 = \"456\"\nresult = addStrings(num1, num2)\nprint(result)\n",
      "metadata": {
        "trusted": true
      },
      "execution_count": 3,
      "outputs": [
        {
          "name": "stdout",
          "text": "579\n",
          "output_type": "stream"
        }
      ]
    },
    {
      "cell_type": "code",
      "source": "from typing import List\n\nclass Solution:\n    def reverseWords(self, s: str) -> str:\n        chars = list(s)\n        l = 0\n        r = 0\n        for r in range(len(chars)):\n            if chars[r] == ' ':\n                self.reverse(chars, l, r - 1)\n                l = r + 1\n            elif r == len(chars) - 1:\n                self.reverse(chars, l, r)\n        return ''.join(chars)\n\n    def reverse(self, chars: List[str], left: int, right: int) -> None:\n        while left < right:\n            chars[left], chars[right] = chars[right], chars[left]\n            left += 1\n            right -= 1\n\n\n# Driver code\nsolution = Solution()\ns = \"Let's reverse this string\"\nreversed_string = solution.reverseWords(s)\nprint(\"Original string: \" + s)\nprint(\"Reversed string: \" + reversed_string)\n\n",
      "metadata": {
        "trusted": true
      },
      "execution_count": 8,
      "outputs": [
        {
          "name": "stdout",
          "text": "Original string: Let's reverse this string\nReversed string: s'teL esrever siht gnirts\n",
          "output_type": "stream"
        }
      ]
    },
    {
      "cell_type": "code",
      "source": "class Solution:\n    def reverseStr(self, s: str, k: int) -> str:\n        ch = list(s)\n        n = len(ch)\n        for i in range(0, n, 2*k):\n            left = i\n            right = min(i + k - 1, n - 1)\n            self.reverse(ch, left, right)\n\n        return \"\".join(ch)\n    \n    def reverse(self, arr: List[str], l: int, r: int) -> None:\n        while l < r:\n            arr[l], arr[r] = arr[r], arr[l]\n            l += 1\n            r -= 1\n\n# Driver code\ns = Solution()\nstring = \"abcdefg\"\nk = 2\nreversed_str = s.reverseStr(string, k)\nprint(reversed_str)\n",
      "metadata": {
        "trusted": true
      },
      "execution_count": 10,
      "outputs": [
        {
          "name": "stdout",
          "text": "bacdfeg\n",
          "output_type": "stream"
        }
      ]
    },
    {
      "cell_type": "code",
      "source": "class Solution:\n    def rotateString(self, s: str, goal: str) -> bool:\n        s1 = s + s\n        \n        if len(s) == len(goal) and goal in s1:\n            return True\n        \n        return False\n\n# Driver code\ns = Solution()\nstr1 = \"abcde\"\nstr2 = \"cdeab\"\nis_rotated = s.rotateString(str1, str2)\nprint(is_rotated)\n",
      "metadata": {
        "trusted": true
      },
      "execution_count": 11,
      "outputs": [
        {
          "name": "stdout",
          "text": "True\n",
          "output_type": "stream"
        }
      ]
    },
    {
      "cell_type": "code",
      "source": "class Solution:\n    def backspaceCompare(self, s: str, t: str) -> bool:\n        l1 = []\n        l2 = []\n        \n        for char in s:\n            if char == '#':\n                if l1:\n                    l1.pop()\n            else:\n                l1.append(char)\n        \n        for char in t:\n            if char == '#':\n                if l2:\n                    l2.pop()\n            else:\n                l2.append(char)\n        \n        return l1 == l2\n\n# Driver code\ns = Solution()\nstr1 = \"ab#c\"\nstr2 = \"ad#c\"\nis_same = s.backspaceCompare(str1, str2)\nprint(is_same)\n",
      "metadata": {
        "trusted": true
      },
      "execution_count": 12,
      "outputs": [
        {
          "name": "stdout",
          "text": "True\n",
          "output_type": "stream"
        }
      ]
    },
    {
      "cell_type": "code",
      "source": "class Solution:\n    def checkStraightLine(self, coordinates: List[List[int]]) -> bool:\n        nums = coordinates[0]\n        nums1 = coordinates[1]\n        s = self.slope(nums, nums1)\n        \n        for i in range(2, len(coordinates)):\n            nums3 = coordinates[i]\n            new_s = self.slope(nums, nums3)\n            \n            if new_s != s:\n                return False\n        \n        return True\n    \n    def slope(self, nums: List[int], nums1: List[int]) -> float:\n        return (nums1[1] - nums[1]) / (nums1[0] - nums[0])\n\n# Driver code\ns = Solution()\ncoords = [[1,2], [3,4], [5,6], [7,8]]\nis_straight = s.checkStraightLine(coords)\nprint(is_straight)\n",
      "metadata": {
        "trusted": true
      },
      "execution_count": 13,
      "outputs": [
        {
          "name": "stdout",
          "text": "True\n",
          "output_type": "stream"
        }
      ]
    },
    {
      "cell_type": "code",
      "source": "",
      "metadata": {},
      "execution_count": null,
      "outputs": []
    }
  ]
}